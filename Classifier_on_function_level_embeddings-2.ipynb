{
  "nbformat": 4,
  "nbformat_minor": 0,
  "metadata": {
    "colab": {
      "provenance": []
    },
    "kernelspec": {
      "name": "python3",
      "display_name": "Python 3"
    },
    "language_info": {
      "name": "python"
    }
  },
  "cells": [
    {
      "cell_type": "code",
      "source": [
        "import pandas as pd\n",
        "import numpy as np"
      ],
      "metadata": {
        "id": "93x2w92CSrwG"
      },
      "execution_count": 1,
      "outputs": []
    },
    {
      "cell_type": "code",
      "source": [
        "path = '/content/drive/MyDrive/301 Project/data_function_level_embedding/labeled_functionlv_embeddings.csv'"
      ],
      "metadata": {
        "id": "8_uK_N2XTUxl"
      },
      "execution_count": 2,
      "outputs": []
    },
    {
      "cell_type": "code",
      "source": [
        "from google.colab import drive\n",
        "drive.mount('/content/drive')"
      ],
      "metadata": {
        "colab": {
          "base_uri": "https://localhost:8080/"
        },
        "id": "O2H25_srnsjs",
        "outputId": "1d023132-3130-4efc-cb74-2525410c8c73"
      },
      "execution_count": 3,
      "outputs": [
        {
          "output_type": "stream",
          "name": "stdout",
          "text": [
            "Mounted at /content/drive\n"
          ]
        }
      ]
    },
    {
      "cell_type": "code",
      "source": [
        "df = pd.read_csv(path)"
      ],
      "metadata": {
        "id": "TZW5NbPFTWKM"
      },
      "execution_count": 4,
      "outputs": []
    },
    {
      "cell_type": "code",
      "source": [
        "# 打乱数据框的行\n",
        "df = df.sample(frac=1)"
      ],
      "metadata": {
        "id": "k6ALUpocfuE2"
      },
      "execution_count": 5,
      "outputs": []
    },
    {
      "cell_type": "code",
      "source": [
        "df"
      ],
      "metadata": {
        "colab": {
          "base_uri": "https://localhost:8080/",
          "height": 424
        },
        "id": "7diNIogQ0tde",
        "outputId": "adace221-7cb6-4179-fea2-5d131db97354"
      },
      "execution_count": 6,
      "outputs": [
        {
          "output_type": "execute_result",
          "data": {
            "text/plain": [
              "                                         code_embedding  label\n",
              "469   [0.010965902358293533, 0.0223123449832201, 0.0...      0\n",
              "98    [0.012380645610392094, 0.011150271631777287, 0...      0\n",
              "609   [0.02869601361453533, -0.004110509995371103, 0...      0\n",
              "1138  [0.007257161661982536, 0.03181292116641998, -0...      1\n",
              "427   [-0.007320190314203501, 0.004174899775534868, ...      0\n",
              "...                                                 ...    ...\n",
              "519   [-4.54168621217832e-05, 0.003709567477926612, ...      0\n",
              "1041  [0.00647138012573123, -0.0014127896865829825, ...      1\n",
              "689   [-0.010452521964907646, 0.0015190488193184137,...      0\n",
              "690   [0.0008149921195581555, 0.004516043700277805, ...      0\n",
              "542   [0.017503567039966583, 0.0065475828014314175, ...      0\n",
              "\n",
              "[1164 rows x 2 columns]"
            ],
            "text/html": [
              "\n",
              "  <div id=\"df-b3f1e97d-352e-4650-859b-7b099951eca7\">\n",
              "    <div class=\"colab-df-container\">\n",
              "      <div>\n",
              "<style scoped>\n",
              "    .dataframe tbody tr th:only-of-type {\n",
              "        vertical-align: middle;\n",
              "    }\n",
              "\n",
              "    .dataframe tbody tr th {\n",
              "        vertical-align: top;\n",
              "    }\n",
              "\n",
              "    .dataframe thead th {\n",
              "        text-align: right;\n",
              "    }\n",
              "</style>\n",
              "<table border=\"1\" class=\"dataframe\">\n",
              "  <thead>\n",
              "    <tr style=\"text-align: right;\">\n",
              "      <th></th>\n",
              "      <th>code_embedding</th>\n",
              "      <th>label</th>\n",
              "    </tr>\n",
              "  </thead>\n",
              "  <tbody>\n",
              "    <tr>\n",
              "      <th>469</th>\n",
              "      <td>[0.010965902358293533, 0.0223123449832201, 0.0...</td>\n",
              "      <td>0</td>\n",
              "    </tr>\n",
              "    <tr>\n",
              "      <th>98</th>\n",
              "      <td>[0.012380645610392094, 0.011150271631777287, 0...</td>\n",
              "      <td>0</td>\n",
              "    </tr>\n",
              "    <tr>\n",
              "      <th>609</th>\n",
              "      <td>[0.02869601361453533, -0.004110509995371103, 0...</td>\n",
              "      <td>0</td>\n",
              "    </tr>\n",
              "    <tr>\n",
              "      <th>1138</th>\n",
              "      <td>[0.007257161661982536, 0.03181292116641998, -0...</td>\n",
              "      <td>1</td>\n",
              "    </tr>\n",
              "    <tr>\n",
              "      <th>427</th>\n",
              "      <td>[-0.007320190314203501, 0.004174899775534868, ...</td>\n",
              "      <td>0</td>\n",
              "    </tr>\n",
              "    <tr>\n",
              "      <th>...</th>\n",
              "      <td>...</td>\n",
              "      <td>...</td>\n",
              "    </tr>\n",
              "    <tr>\n",
              "      <th>519</th>\n",
              "      <td>[-4.54168621217832e-05, 0.003709567477926612, ...</td>\n",
              "      <td>0</td>\n",
              "    </tr>\n",
              "    <tr>\n",
              "      <th>1041</th>\n",
              "      <td>[0.00647138012573123, -0.0014127896865829825, ...</td>\n",
              "      <td>1</td>\n",
              "    </tr>\n",
              "    <tr>\n",
              "      <th>689</th>\n",
              "      <td>[-0.010452521964907646, 0.0015190488193184137,...</td>\n",
              "      <td>0</td>\n",
              "    </tr>\n",
              "    <tr>\n",
              "      <th>690</th>\n",
              "      <td>[0.0008149921195581555, 0.004516043700277805, ...</td>\n",
              "      <td>0</td>\n",
              "    </tr>\n",
              "    <tr>\n",
              "      <th>542</th>\n",
              "      <td>[0.017503567039966583, 0.0065475828014314175, ...</td>\n",
              "      <td>0</td>\n",
              "    </tr>\n",
              "  </tbody>\n",
              "</table>\n",
              "<p>1164 rows × 2 columns</p>\n",
              "</div>\n",
              "      <button class=\"colab-df-convert\" onclick=\"convertToInteractive('df-b3f1e97d-352e-4650-859b-7b099951eca7')\"\n",
              "              title=\"Convert this dataframe to an interactive table.\"\n",
              "              style=\"display:none;\">\n",
              "        \n",
              "  <svg xmlns=\"http://www.w3.org/2000/svg\" height=\"24px\"viewBox=\"0 0 24 24\"\n",
              "       width=\"24px\">\n",
              "    <path d=\"M0 0h24v24H0V0z\" fill=\"none\"/>\n",
              "    <path d=\"M18.56 5.44l.94 2.06.94-2.06 2.06-.94-2.06-.94-.94-2.06-.94 2.06-2.06.94zm-11 1L8.5 8.5l.94-2.06 2.06-.94-2.06-.94L8.5 2.5l-.94 2.06-2.06.94zm10 10l.94 2.06.94-2.06 2.06-.94-2.06-.94-.94-2.06-.94 2.06-2.06.94z\"/><path d=\"M17.41 7.96l-1.37-1.37c-.4-.4-.92-.59-1.43-.59-.52 0-1.04.2-1.43.59L10.3 9.45l-7.72 7.72c-.78.78-.78 2.05 0 2.83L4 21.41c.39.39.9.59 1.41.59.51 0 1.02-.2 1.41-.59l7.78-7.78 2.81-2.81c.8-.78.8-2.07 0-2.86zM5.41 20L4 18.59l7.72-7.72 1.47 1.35L5.41 20z\"/>\n",
              "  </svg>\n",
              "      </button>\n",
              "      \n",
              "  <style>\n",
              "    .colab-df-container {\n",
              "      display:flex;\n",
              "      flex-wrap:wrap;\n",
              "      gap: 12px;\n",
              "    }\n",
              "\n",
              "    .colab-df-convert {\n",
              "      background-color: #E8F0FE;\n",
              "      border: none;\n",
              "      border-radius: 50%;\n",
              "      cursor: pointer;\n",
              "      display: none;\n",
              "      fill: #1967D2;\n",
              "      height: 32px;\n",
              "      padding: 0 0 0 0;\n",
              "      width: 32px;\n",
              "    }\n",
              "\n",
              "    .colab-df-convert:hover {\n",
              "      background-color: #E2EBFA;\n",
              "      box-shadow: 0px 1px 2px rgba(60, 64, 67, 0.3), 0px 1px 3px 1px rgba(60, 64, 67, 0.15);\n",
              "      fill: #174EA6;\n",
              "    }\n",
              "\n",
              "    [theme=dark] .colab-df-convert {\n",
              "      background-color: #3B4455;\n",
              "      fill: #D2E3FC;\n",
              "    }\n",
              "\n",
              "    [theme=dark] .colab-df-convert:hover {\n",
              "      background-color: #434B5C;\n",
              "      box-shadow: 0px 1px 3px 1px rgba(0, 0, 0, 0.15);\n",
              "      filter: drop-shadow(0px 1px 2px rgba(0, 0, 0, 0.3));\n",
              "      fill: #FFFFFF;\n",
              "    }\n",
              "  </style>\n",
              "\n",
              "      <script>\n",
              "        const buttonEl =\n",
              "          document.querySelector('#df-b3f1e97d-352e-4650-859b-7b099951eca7 button.colab-df-convert');\n",
              "        buttonEl.style.display =\n",
              "          google.colab.kernel.accessAllowed ? 'block' : 'none';\n",
              "\n",
              "        async function convertToInteractive(key) {\n",
              "          const element = document.querySelector('#df-b3f1e97d-352e-4650-859b-7b099951eca7');\n",
              "          const dataTable =\n",
              "            await google.colab.kernel.invokeFunction('convertToInteractive',\n",
              "                                                     [key], {});\n",
              "          if (!dataTable) return;\n",
              "\n",
              "          const docLinkHtml = 'Like what you see? Visit the ' +\n",
              "            '<a target=\"_blank\" href=https://colab.research.google.com/notebooks/data_table.ipynb>data table notebook</a>'\n",
              "            + ' to learn more about interactive tables.';\n",
              "          element.innerHTML = '';\n",
              "          dataTable['output_type'] = 'display_data';\n",
              "          await google.colab.output.renderOutput(dataTable, element);\n",
              "          const docLink = document.createElement('div');\n",
              "          docLink.innerHTML = docLinkHtml;\n",
              "          element.appendChild(docLink);\n",
              "        }\n",
              "      </script>\n",
              "    </div>\n",
              "  </div>\n",
              "  "
            ]
          },
          "metadata": {},
          "execution_count": 6
        }
      ]
    },
    {
      "cell_type": "code",
      "source": [
        "df.head(5)"
      ],
      "metadata": {
        "colab": {
          "base_uri": "https://localhost:8080/",
          "height": 206
        },
        "id": "kp4aLGHJTYY1",
        "outputId": "81bc603c-b08c-40eb-f216-f2ab3e5b528e"
      },
      "execution_count": 7,
      "outputs": [
        {
          "output_type": "execute_result",
          "data": {
            "text/plain": [
              "                                         code_embedding  label\n",
              "469   [0.010965902358293533, 0.0223123449832201, 0.0...      0\n",
              "98    [0.012380645610392094, 0.011150271631777287, 0...      0\n",
              "609   [0.02869601361453533, -0.004110509995371103, 0...      0\n",
              "1138  [0.007257161661982536, 0.03181292116641998, -0...      1\n",
              "427   [-0.007320190314203501, 0.004174899775534868, ...      0"
            ],
            "text/html": [
              "\n",
              "  <div id=\"df-07da28d0-f9c3-46a9-8c74-44cea3b7e9ec\">\n",
              "    <div class=\"colab-df-container\">\n",
              "      <div>\n",
              "<style scoped>\n",
              "    .dataframe tbody tr th:only-of-type {\n",
              "        vertical-align: middle;\n",
              "    }\n",
              "\n",
              "    .dataframe tbody tr th {\n",
              "        vertical-align: top;\n",
              "    }\n",
              "\n",
              "    .dataframe thead th {\n",
              "        text-align: right;\n",
              "    }\n",
              "</style>\n",
              "<table border=\"1\" class=\"dataframe\">\n",
              "  <thead>\n",
              "    <tr style=\"text-align: right;\">\n",
              "      <th></th>\n",
              "      <th>code_embedding</th>\n",
              "      <th>label</th>\n",
              "    </tr>\n",
              "  </thead>\n",
              "  <tbody>\n",
              "    <tr>\n",
              "      <th>469</th>\n",
              "      <td>[0.010965902358293533, 0.0223123449832201, 0.0...</td>\n",
              "      <td>0</td>\n",
              "    </tr>\n",
              "    <tr>\n",
              "      <th>98</th>\n",
              "      <td>[0.012380645610392094, 0.011150271631777287, 0...</td>\n",
              "      <td>0</td>\n",
              "    </tr>\n",
              "    <tr>\n",
              "      <th>609</th>\n",
              "      <td>[0.02869601361453533, -0.004110509995371103, 0...</td>\n",
              "      <td>0</td>\n",
              "    </tr>\n",
              "    <tr>\n",
              "      <th>1138</th>\n",
              "      <td>[0.007257161661982536, 0.03181292116641998, -0...</td>\n",
              "      <td>1</td>\n",
              "    </tr>\n",
              "    <tr>\n",
              "      <th>427</th>\n",
              "      <td>[-0.007320190314203501, 0.004174899775534868, ...</td>\n",
              "      <td>0</td>\n",
              "    </tr>\n",
              "  </tbody>\n",
              "</table>\n",
              "</div>\n",
              "      <button class=\"colab-df-convert\" onclick=\"convertToInteractive('df-07da28d0-f9c3-46a9-8c74-44cea3b7e9ec')\"\n",
              "              title=\"Convert this dataframe to an interactive table.\"\n",
              "              style=\"display:none;\">\n",
              "        \n",
              "  <svg xmlns=\"http://www.w3.org/2000/svg\" height=\"24px\"viewBox=\"0 0 24 24\"\n",
              "       width=\"24px\">\n",
              "    <path d=\"M0 0h24v24H0V0z\" fill=\"none\"/>\n",
              "    <path d=\"M18.56 5.44l.94 2.06.94-2.06 2.06-.94-2.06-.94-.94-2.06-.94 2.06-2.06.94zm-11 1L8.5 8.5l.94-2.06 2.06-.94-2.06-.94L8.5 2.5l-.94 2.06-2.06.94zm10 10l.94 2.06.94-2.06 2.06-.94-2.06-.94-.94-2.06-.94 2.06-2.06.94z\"/><path d=\"M17.41 7.96l-1.37-1.37c-.4-.4-.92-.59-1.43-.59-.52 0-1.04.2-1.43.59L10.3 9.45l-7.72 7.72c-.78.78-.78 2.05 0 2.83L4 21.41c.39.39.9.59 1.41.59.51 0 1.02-.2 1.41-.59l7.78-7.78 2.81-2.81c.8-.78.8-2.07 0-2.86zM5.41 20L4 18.59l7.72-7.72 1.47 1.35L5.41 20z\"/>\n",
              "  </svg>\n",
              "      </button>\n",
              "      \n",
              "  <style>\n",
              "    .colab-df-container {\n",
              "      display:flex;\n",
              "      flex-wrap:wrap;\n",
              "      gap: 12px;\n",
              "    }\n",
              "\n",
              "    .colab-df-convert {\n",
              "      background-color: #E8F0FE;\n",
              "      border: none;\n",
              "      border-radius: 50%;\n",
              "      cursor: pointer;\n",
              "      display: none;\n",
              "      fill: #1967D2;\n",
              "      height: 32px;\n",
              "      padding: 0 0 0 0;\n",
              "      width: 32px;\n",
              "    }\n",
              "\n",
              "    .colab-df-convert:hover {\n",
              "      background-color: #E2EBFA;\n",
              "      box-shadow: 0px 1px 2px rgba(60, 64, 67, 0.3), 0px 1px 3px 1px rgba(60, 64, 67, 0.15);\n",
              "      fill: #174EA6;\n",
              "    }\n",
              "\n",
              "    [theme=dark] .colab-df-convert {\n",
              "      background-color: #3B4455;\n",
              "      fill: #D2E3FC;\n",
              "    }\n",
              "\n",
              "    [theme=dark] .colab-df-convert:hover {\n",
              "      background-color: #434B5C;\n",
              "      box-shadow: 0px 1px 3px 1px rgba(0, 0, 0, 0.15);\n",
              "      filter: drop-shadow(0px 1px 2px rgba(0, 0, 0, 0.3));\n",
              "      fill: #FFFFFF;\n",
              "    }\n",
              "  </style>\n",
              "\n",
              "      <script>\n",
              "        const buttonEl =\n",
              "          document.querySelector('#df-07da28d0-f9c3-46a9-8c74-44cea3b7e9ec button.colab-df-convert');\n",
              "        buttonEl.style.display =\n",
              "          google.colab.kernel.accessAllowed ? 'block' : 'none';\n",
              "\n",
              "        async function convertToInteractive(key) {\n",
              "          const element = document.querySelector('#df-07da28d0-f9c3-46a9-8c74-44cea3b7e9ec');\n",
              "          const dataTable =\n",
              "            await google.colab.kernel.invokeFunction('convertToInteractive',\n",
              "                                                     [key], {});\n",
              "          if (!dataTable) return;\n",
              "\n",
              "          const docLinkHtml = 'Like what you see? Visit the ' +\n",
              "            '<a target=\"_blank\" href=https://colab.research.google.com/notebooks/data_table.ipynb>data table notebook</a>'\n",
              "            + ' to learn more about interactive tables.';\n",
              "          element.innerHTML = '';\n",
              "          dataTable['output_type'] = 'display_data';\n",
              "          await google.colab.output.renderOutput(dataTable, element);\n",
              "          const docLink = document.createElement('div');\n",
              "          docLink.innerHTML = docLinkHtml;\n",
              "          element.appendChild(docLink);\n",
              "        }\n",
              "      </script>\n",
              "    </div>\n",
              "  </div>\n",
              "  "
            ]
          },
          "metadata": {},
          "execution_count": 7
        }
      ]
    },
    {
      "cell_type": "code",
      "source": [
        "import tensorflow as tf\n",
        "from tensorflow.keras.metrics import Precision, Recall, AUC\n",
        "import numpy as np\n",
        "import ast\n",
        "\n",
        "# 提取嵌入向量和标签\n",
        "embeddings = np.stack(df['code_embedding'].apply(lambda x: np.array(ast.literal_eval(x))).values)\n",
        "labels = df['label'].values\n",
        "\n",
        "# 转换嵌入和标签为 TensorFlow 张量\n",
        "X = tf.convert_to_tensor(embeddings, dtype=tf.float32)\n",
        "y = tf.convert_to_tensor(labels, dtype=tf.int32)\n",
        "\n",
        "# 分类任务的类别数量\n",
        "num_classes = len(set(labels))\n",
        "num_samples, embedding_dim = embeddings.shape\n",
        "\n",
        "# Define the classifier\n",
        "model = tf.keras.Sequential([\n",
        "    tf.keras.layers.Dense(64, activation='relu', input_shape=(embedding_dim,)),\n",
        "    tf.keras.layers.Dropout(0.5), \n",
        "    tf.keras.layers.Dense(1, activation='sigmoid')\n",
        "])\n",
        "\n",
        "precision = Precision(name='precision')\n",
        "recall = Recall(name='recall')\n",
        "auc = AUC(name='auc', curve='ROC')\n",
        "\n",
        "# 编译模型\n",
        "# model.compile(optimizer='adam', loss='binary_crossentropy', metrics=['accuracy'])\n",
        "model.compile(optimizer='adam', loss='binary_crossentropy', metrics=['accuracy', auc])\n",
        "\n",
        "# 划分训练集和验证集\n",
        "train_frac = 0.8\n",
        "train_size = int(num_samples * train_frac)\n",
        "X_train, X_val = X[:train_size], X[train_size:]\n",
        "y_train, y_val = y[:train_size], y[train_size:]\n",
        "\n",
        "# 训练模型\n",
        "# model.fit(X_train, y_train, epochs=20, batch_size=16, validation_data=(X_val, y_val))\n"
      ],
      "metadata": {
        "id": "9SuYwRH4dsL1"
      },
      "execution_count": 8,
      "outputs": []
    },
    {
      "cell_type": "code",
      "source": [
        "print(embedding_dim)"
      ],
      "metadata": {
        "colab": {
          "base_uri": "https://localhost:8080/"
        },
        "id": "jfgjzQ6gDa0v",
        "outputId": "ed373d09-7d15-4da5-b83d-39cea9d00e30"
      },
      "execution_count": 9,
      "outputs": [
        {
          "output_type": "stream",
          "name": "stdout",
          "text": [
            "1536\n"
          ]
        }
      ]
    },
    {
      "cell_type": "code",
      "source": [
        "import matplotlib.pyplot as plt\n",
        "\n",
        "# 训练模型\n",
        "history = model.fit(X_train, y_train, epochs=20, batch_size=16, validation_data=(X_val, y_val))\n",
        "\n",
        "# 绘制训练集和验证集的准确率随epoch的变化\n",
        "plt.plot(history.history['accuracy'], label='train accuracy')\n",
        "plt.plot(history.history['val_accuracy'], label='val accuracy')\n",
        "plt.title('Model accuracy')\n",
        "plt.ylabel('Accuracy')\n",
        "plt.xlabel('Epoch')\n",
        "plt.legend()\n",
        "plt.show()\n",
        "\n",
        "# 绘制训练集和验证集的损失函数随epoch的变化\n",
        "plt.plot(history.history['loss'], label='train loss')\n",
        "plt.plot(history.history['val_loss'], label='val loss')\n",
        "plt.title('Model loss')\n",
        "plt.ylabel('Loss')\n",
        "plt.xlabel('Epoch')\n",
        "plt.legend()\n",
        "plt.show()"
      ],
      "metadata": {
        "colab": {
          "base_uri": "https://localhost:8080/",
          "height": 1000
        },
        "id": "gI9_JdmihDq0",
        "outputId": "5288163c-7955-4a3d-8b66-038b824e6c6a"
      },
      "execution_count": 10,
      "outputs": [
        {
          "output_type": "stream",
          "name": "stdout",
          "text": [
            "Epoch 1/20\n",
            "59/59 [==============================] - 2s 10ms/step - loss: 0.6457 - accuracy: 0.6241 - auc: 0.6189 - val_loss: 0.6026 - val_accuracy: 0.6352 - val_auc: 0.9444\n",
            "Epoch 2/20\n",
            "59/59 [==============================] - 0s 5ms/step - loss: 0.5785 - accuracy: 0.6767 - auc: 0.8633 - val_loss: 0.5374 - val_accuracy: 0.7039 - val_auc: 0.9551\n",
            "Epoch 3/20\n",
            "59/59 [==============================] - 0s 5ms/step - loss: 0.5085 - accuracy: 0.7734 - auc: 0.9284 - val_loss: 0.4666 - val_accuracy: 0.7940 - val_auc: 0.9639\n",
            "Epoch 4/20\n",
            "59/59 [==============================] - 0s 5ms/step - loss: 0.4422 - accuracy: 0.8281 - auc: 0.9383 - val_loss: 0.4039 - val_accuracy: 0.9227 - val_auc: 0.9668\n",
            "Epoch 5/20\n",
            "59/59 [==============================] - 0s 6ms/step - loss: 0.3659 - accuracy: 0.9012 - auc: 0.9653 - val_loss: 0.3404 - val_accuracy: 0.9142 - val_auc: 0.9695\n",
            "Epoch 6/20\n",
            "59/59 [==============================] - 0s 5ms/step - loss: 0.3068 - accuracy: 0.9216 - auc: 0.9754 - val_loss: 0.2976 - val_accuracy: 0.9185 - val_auc: 0.9712\n",
            "Epoch 7/20\n",
            "59/59 [==============================] - 0s 7ms/step - loss: 0.2793 - accuracy: 0.9259 - auc: 0.9721 - val_loss: 0.2654 - val_accuracy: 0.9185 - val_auc: 0.9725\n",
            "Epoch 8/20\n",
            "59/59 [==============================] - 1s 9ms/step - loss: 0.2458 - accuracy: 0.9291 - auc: 0.9778 - val_loss: 0.2415 - val_accuracy: 0.9227 - val_auc: 0.9745\n",
            "Epoch 9/20\n",
            "59/59 [==============================] - 1s 8ms/step - loss: 0.2226 - accuracy: 0.9431 - auc: 0.9803 - val_loss: 0.2253 - val_accuracy: 0.9270 - val_auc: 0.9737\n",
            "Epoch 10/20\n",
            "59/59 [==============================] - 1s 9ms/step - loss: 0.2043 - accuracy: 0.9452 - auc: 0.9813 - val_loss: 0.2310 - val_accuracy: 0.9142 - val_auc: 0.9752\n",
            "Epoch 11/20\n",
            "59/59 [==============================] - 1s 9ms/step - loss: 0.1867 - accuracy: 0.9549 - auc: 0.9839 - val_loss: 0.2036 - val_accuracy: 0.9313 - val_auc: 0.9750\n",
            "Epoch 12/20\n",
            "59/59 [==============================] - 1s 9ms/step - loss: 0.1752 - accuracy: 0.9527 - auc: 0.9861 - val_loss: 0.2001 - val_accuracy: 0.9227 - val_auc: 0.9746\n",
            "Epoch 13/20\n",
            "59/59 [==============================] - 1s 9ms/step - loss: 0.1727 - accuracy: 0.9527 - auc: 0.9840 - val_loss: 0.2027 - val_accuracy: 0.9270 - val_auc: 0.9754\n",
            "Epoch 14/20\n",
            "59/59 [==============================] - 0s 8ms/step - loss: 0.1563 - accuracy: 0.9506 - auc: 0.9875 - val_loss: 0.1887 - val_accuracy: 0.9442 - val_auc: 0.9746\n",
            "Epoch 15/20\n",
            "59/59 [==============================] - 1s 9ms/step - loss: 0.1421 - accuracy: 0.9635 - auc: 0.9893 - val_loss: 0.1969 - val_accuracy: 0.9270 - val_auc: 0.9750\n",
            "Epoch 16/20\n",
            "59/59 [==============================] - 0s 6ms/step - loss: 0.1405 - accuracy: 0.9570 - auc: 0.9890 - val_loss: 0.1827 - val_accuracy: 0.9356 - val_auc: 0.9762\n",
            "Epoch 17/20\n",
            "59/59 [==============================] - 0s 6ms/step - loss: 0.1281 - accuracy: 0.9624 - auc: 0.9919 - val_loss: 0.1832 - val_accuracy: 0.9356 - val_auc: 0.9750\n",
            "Epoch 18/20\n",
            "59/59 [==============================] - 0s 5ms/step - loss: 0.1246 - accuracy: 0.9635 - auc: 0.9917 - val_loss: 0.1808 - val_accuracy: 0.9356 - val_auc: 0.9758\n",
            "Epoch 19/20\n",
            "59/59 [==============================] - 0s 6ms/step - loss: 0.1242 - accuracy: 0.9624 - auc: 0.9915 - val_loss: 0.1824 - val_accuracy: 0.9356 - val_auc: 0.9750\n",
            "Epoch 20/20\n",
            "59/59 [==============================] - 0s 5ms/step - loss: 0.1139 - accuracy: 0.9667 - auc: 0.9934 - val_loss: 0.1787 - val_accuracy: 0.9356 - val_auc: 0.9765\n"
          ]
        },
        {
          "output_type": "display_data",
          "data": {
            "text/plain": [
              "<Figure size 640x480 with 1 Axes>"
            ],
            "image/png": "[encoded data removed]"
          },
          "metadata": {}
        },
        {
          "output_type": "display_data",
          "data": {
            "text/plain": [
              "<Figure size 640x480 with 1 Axes>"
            ],
            "image/png": "[encoded data removed]"
          },
          "metadata": {}
        }
      ]
    }
  ]
}